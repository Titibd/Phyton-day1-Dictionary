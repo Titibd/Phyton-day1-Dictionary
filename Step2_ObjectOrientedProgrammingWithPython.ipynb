{
  "nbformat": 4,
  "nbformat_minor": 0,
  "metadata": {
    "colab": {
      "name": "Step2-ObjectOrientedProgrammingWithPython.ipynb",
      "provenance": [],
      "authorship_tag": "ABX9TyOh0DubTKz8K2vR+XxKMTsV",
      "include_colab_link": true
    },
    "kernelspec": {
      "name": "python3",
      "display_name": "Python 3"
    },
    "language_info": {
      "name": "python"
    }
  },
  "cells": [
    {
      "cell_type": "markdown",
      "metadata": {
        "id": "view-in-github",
        "colab_type": "text"
      },
      "source": [
        "<a href=\"https://colab.research.google.com/github/Titibd/Phyton-day1-Dictionary/blob/main/Step2_ObjectOrientedProgrammingWithPython.ipynb\" target=\"_parent\"><img src=\"https://colab.research.google.com/assets/colab-badge.svg\" alt=\"Open In Colab\"/></a>"
      ]
    },
    {
      "cell_type": "markdown",
      "source": [
        " # Objected Oriented Python Topics\n",
        "\n",
        "Objects and Classes\n",
        "\n",
        "Inheritance\n",
        "\n",
        "Encapsulation\n",
        "\n",
        "Abstract Classes\n",
        "\n",
        "Interfaces"
      ],
      "metadata": {
        "id": "TIJti2yJrIX-"
      }
    },
    {
      "cell_type": "code",
      "execution_count": 1,
      "metadata": {
        "colab": {
          "base_uri": "https://localhost:8080/"
        },
        "id": "g0Gu0QSvq9TR",
        "outputId": "de447f6e-a9d5-4a98-eb0f-983d1d133221"
      },
      "outputs": [
        {
          "output_type": "stream",
          "name": "stdout",
          "text": [
            "<__main__.Person object at 0x7fa943cb4a50>\n"
          ]
        }
      ],
      "source": [
        "# create an empty class called `Person`\n",
        "# (NOTE: class names always begin with a capital letter!)\n",
        "class Person:\n",
        "    pass # empty block\n",
        "\n",
        "# Create object `p` from class `Person`\n",
        "p = Person()\n",
        "\n",
        "# Print `p` \n",
        "print(p)"
      ]
    },
    {
      "cell_type": "code",
      "source": [
        "# create a class called `Person`\n",
        "class Person:\n",
        "    # create a new built in method called say_hi\n",
        "    def say_hi(self):\n",
        "        print('Hello, how are you?')\n",
        "\n",
        "# instantiate object `p` from `Person` class\n",
        "p = Person()\n",
        "\n",
        "# run the built-in method from object `p`\n",
        "p.say_hi()"
      ],
      "metadata": {
        "colab": {
          "base_uri": "https://localhost:8080/"
        },
        "id": "no6BgYWcrtw3",
        "outputId": "a96c29bf-2ccc-422e-a935-dbc1635ee648"
      },
      "execution_count": 2,
      "outputs": [
        {
          "output_type": "stream",
          "name": "stdout",
          "text": [
            "Hello, how are you?\n"
          ]
        }
      ]
    },
    {
      "cell_type": "code",
      "source": [
        "# create Class called `Person`\n",
        "class Person:\n",
        "    \n",
        "    # create the __init__ constructor function \n",
        "    def __init__(self,name):\n",
        "        self.name = name # object variable\n",
        "    \n",
        "    # create method called say_hi\n",
        "    # this will be a built-in function for this class `Person`\n",
        "    def say_hi(self):\n",
        "        print('Hello, my name is ', self.name)\n",
        "\n",
        "# instatiate an object `p` from class `Person`\n",
        "# remember to input the `name` as Class argument\n",
        "p = Person('Jill')\n",
        "\n",
        "# call built-in method\n",
        "p.say_hi()"
      ],
      "metadata": {
        "colab": {
          "base_uri": "https://localhost:8080/"
        },
        "id": "gtGg84AIsOcz",
        "outputId": "35ab8591-abcd-42df-bd6d-c9275a2f3cf8"
      },
      "execution_count": 3,
      "outputs": [
        {
          "output_type": "stream",
          "name": "stdout",
          "text": [
            "Hello, my name is  Jill\n"
          ]
        }
      ]
    },
    {
      "cell_type": "code",
      "source": [
        "# Docstrings Example\n",
        "\n",
        "def is_even(num):\n",
        "  # Docstring\n",
        "  \"\"\"\n",
        "  Input: an integer\n",
        "  Output: if input is even (True for even, False for not)\n",
        "  \"\"\"\n",
        "  return num % 2 == 0\n",
        "\n",
        "help(is_even)"
      ],
      "metadata": {
        "colab": {
          "base_uri": "https://localhost:8080/"
        },
        "id": "KTiEuJrBshV-",
        "outputId": "d70f54c4-6815-4c37-e769-3bd14c04e497"
      },
      "execution_count": 4,
      "outputs": [
        {
          "output_type": "stream",
          "name": "stdout",
          "text": [
            "Help on function is_even in module __main__:\n",
            "\n",
            "is_even(num)\n",
            "    Input: an integer\n",
            "    Output: if input is even (True for even, False for not)\n",
            "\n"
          ]
        }
      ]
    },
    {
      "cell_type": "code",
      "source": [
        "# `.format()` example\n",
        "\n",
        "pi_value = 3.14\n",
        "print(\"The value of Pi is {}\".format(pi_value))"
      ],
      "metadata": {
        "colab": {
          "base_uri": "https://localhost:8080/"
        },
        "id": "z7r51nyysqqB",
        "outputId": "f70d7732-18b9-44a2-d01a-2c143270a12c"
      },
      "execution_count": 5,
      "outputs": [
        {
          "output_type": "stream",
          "name": "stdout",
          "text": [
            "The value of Pi is 3.14\n"
          ]
        }
      ]
    },
    {
      "cell_type": "code",
      "source": [
        "# Define a class called Robot\n",
        "class Robot:\n",
        "  \"\"\"Represents a robot, with a name.\"\"\" # Docstrings\n",
        "\n",
        "  # Class Variable: population\n",
        "  population = 0\n",
        "\n",
        "  # Constructor Function: __init__()\n",
        "  def __init__(self, name):\n",
        "      \"\"\"Initializes the data.\"\"\" # Docstrings\n",
        "      self.name = name # Object Variable\n",
        "      print(\"(Initializing {})\".format(self.name))\n",
        "\n",
        "      # When a new robot is created, the robot\n",
        "      # adds to the population\n",
        "      Robot.population += 1\n",
        "\n",
        "  # Object Method: die()\n",
        "  def die(self):\n",
        "      \"\"\"I am dying.\"\"\" # Docstrings\n",
        "      print(\"{} is being destroyed!\".format(self.name))\n",
        "\n",
        "      Robot.population -= 1\n",
        "\n",
        "      if Robot.population == 0:\n",
        "          print(\"{} was the last one.\".format(self.name))\n",
        "      else:\n",
        "          print(\"There are still {:d} robots working.\".format(\n",
        "              Robot.population))\n",
        "\n",
        "  # Object Method: say_hi()\n",
        "  def say_hi(self):\n",
        "      \"\"\"Greeting by the robot. \n",
        "      Yeah, they can do that.\"\"\" # Docstrings\n",
        "      print(\"Greetings, my masters call me {}.\".format(self.name))\n",
        "\n",
        "  # Class Method: how_many() \n",
        "  @classmethod\n",
        "  def how_many(cls):\n",
        "      \"\"\"Prints the current population.\"\"\" # Docstrings\n",
        "      print(\"We have {:d} robots.\".format(cls.population))"
      ],
      "metadata": {
        "id": "1focv7vGsu4t"
      },
      "execution_count": 6,
      "outputs": []
    },
    {
      "cell_type": "code",
      "source": [
        "# Using the above Robot Class setup\n",
        "\n",
        "#------------------------------------------------------\n",
        "# Initialize Robot 1 called 'R2-D2' in `droid1`\n",
        "droid1 = Robot(\"R2-D2\")\n",
        "\n",
        "# Call the Built-In Object Function for `droid1`\n",
        "droid1.say_hi()\n",
        "\n",
        "# Call the Class Function\n",
        "Robot.how_many()\n",
        "\n",
        "#------------------------------------------------------\n",
        "# Initialize Robot 2 called 'C-3PO' \n",
        "droid2 = Robot(\"C-3PO\")\n",
        "\n",
        "# Call the Built-In Object Function for droid2\n",
        "droid2.say_hi()\n",
        "\n",
        "# Call the Class Function\n",
        "Robot.how_many()\n",
        "\n",
        "#------------------------------------------------------\n",
        "# Print a note about Robots working\n",
        "print(\"\\nRobots can do some work here.\\n\")\n",
        "\n",
        "# Print a note about destroying Robots\n",
        "print(\"Robots have finished their work. So let's destroy them.\")\n",
        "\n",
        "#------------------------------------------------------\n",
        "# Use Built-In Object Functions \n",
        "droid1.die()\n",
        "droid2.die()\n",
        "\n",
        "# Call the Class Function\n",
        "Robot.how_many()"
      ],
      "metadata": {
        "colab": {
          "base_uri": "https://localhost:8080/"
        },
        "id": "LSZau3Was2e8",
        "outputId": "9cbcf4b4-fa2e-46b0-d24a-cefc323ce886"
      },
      "execution_count": 7,
      "outputs": [
        {
          "output_type": "stream",
          "name": "stdout",
          "text": [
            "(Initializing R2-D2)\n",
            "Greetings, my masters call me R2-D2.\n",
            "We have 1 robots.\n",
            "(Initializing C-3PO)\n",
            "Greetings, my masters call me C-3PO.\n",
            "We have 2 robots.\n",
            "\n",
            "Robots can do some work here.\n",
            "\n",
            "Robots have finished their work. So let's destroy them.\n",
            "R2-D2 is being destroyed!\n",
            "There are still 1 robots working.\n",
            "C-3PO is being destroyed!\n",
            "C-3PO was the last one.\n",
            "We have 0 robots.\n"
          ]
        }
      ]
    },
    {
      "cell_type": "code",
      "source": [
        "class SchoolMember:\n",
        "    '''Represents any school member.'''\n",
        "    def __init__(self, name, age):\n",
        "        self.name = name\n",
        "        self.age = age\n",
        "        print('(Initialized SchoolMember: {})'.format(self.name))\n",
        "\n",
        "    def tell(self):\n",
        "        '''Tell my details.'''\n",
        "        print('Name:\"{}\" Age:\"{}\"'.format(self.name, self.age), end=\" \")"
      ],
      "metadata": {
        "id": "66dVkqlrtAHl"
      },
      "execution_count": 13,
      "outputs": []
    },
    {
      "cell_type": "code",
      "source": [
        "class Teacher(SchoolMember):\n",
        "    '''Represents a teacher.'''\n",
        "    def __init__(self, name, age, salary):\n",
        "        SchoolMember.__init__(self, name, age)\n",
        "        self.salary = salary\n",
        "        print('(Initialized Teacher: {})'.format(self.name))\n",
        "\n",
        "    def tell(self):\n",
        "        SchoolMember.tell(self)\n",
        "        print('Salary: \"{:d}\"'.format(self.salary))"
      ],
      "metadata": {
        "id": "nMgwS1LFtFu0"
      },
      "execution_count": 14,
      "outputs": []
    },
    {
      "cell_type": "code",
      "source": [
        "# initialize a new Robot class \n",
        "class Robot:\n",
        "\n",
        "  # constructor function\n",
        "  def __init__(self):\n",
        "    self.__version = 22\n",
        "\n",
        "  # getter function\n",
        "  def getVersion(self):\n",
        "    print(self.__version)\n",
        "\n",
        "  # setter function\n",
        "  def setVersion(self, version):\n",
        "    self.__version = version\n",
        "\n",
        "# instantiate a new object called 'new_robot'\n",
        "new_robot = Robot()\n",
        "\n",
        "# use the getter function\n",
        "new_robot.getVersion()"
      ],
      "metadata": {
        "colab": {
          "base_uri": "https://localhost:8080/"
        },
        "id": "tsX5CQhKt3S-",
        "outputId": "63d1173a-b925-48f5-d140-cf630415ea32"
      },
      "execution_count": 16,
      "outputs": [
        {
          "output_type": "stream",
          "name": "stdout",
          "text": [
            "22\n"
          ]
        }
      ]
    },
    {
      "cell_type": "code",
      "source": [
        "# use the built in setter function\n",
        "new_robot.setVersion(23)\n",
        "\n",
        "# use the getter function again\n",
        "new_robot.getVersion()"
      ],
      "metadata": {
        "colab": {
          "base_uri": "https://localhost:8080/"
        },
        "id": "ELmKfKwDt3Wv",
        "outputId": "5072392c-4c16-468c-8797-a37f8a2fe555"
      },
      "execution_count": 17,
      "outputs": [
        {
          "output_type": "stream",
          "name": "stdout",
          "text": [
            "23\n"
          ]
        }
      ]
    },
    {
      "cell_type": "code",
      "source": [
        "# imported abstract base class  \n",
        "\n",
        "from abc import ABC, abstractmethod \n",
        "\n",
        "# Parent Abstract Method ---------------------------------------------------\n",
        "class Polygon(ABC): \n",
        "\n",
        "\t# abstract method inside the parent Abstract Class\n",
        "\tdef noofsides(self): \n",
        "\t\tpass\n",
        "\n",
        "# Child Class #1 of Polygon Parent Abstract Class --------------------------\n",
        "class Triangle(Polygon): \n",
        "\n",
        "\t# overriding abstract method \n",
        "\tdef noofsides(self): \n",
        "\t\tprint(\"I have 3 sides\") \n",
        "\n",
        "# Child Class #2 of Polygon Parent Abstract Class --------------------------\n",
        "class Pentagon(Polygon): \n",
        "\n",
        "\t# overriding abstract method \n",
        "\tdef noofsides(self): \n",
        "\t\tprint(\"I have 5 sides\") \n",
        "\n",
        "# Child Class #3 of Polygon Parent Abstract Class --------------------------\n",
        "class Hexagon(Polygon): \n",
        "\n",
        "\t# overriding abstract method \n",
        "\tdef noofsides(self): \n",
        "\t\tprint(\"I have 6 sides\") \n",
        "\n",
        "# Child Class #4 of Polygon Parent Abstract Class --------------------------\n",
        "class Quadrilateral(Polygon): \n",
        "\n",
        "\t# overriding abstract method \n",
        "\tdef noofsides(self): \n",
        "\t\tprint(\"I have 4 sides\") "
      ],
      "metadata": {
        "id": "tYRVmhkkuHYW"
      },
      "execution_count": 19,
      "outputs": []
    },
    {
      "cell_type": "code",
      "source": [
        "# Create Objects from Children Classes \n",
        "\n",
        "# Triangle Child Class Object\n",
        "R = Triangle() \n",
        "R.noofsides() \n",
        "\n",
        "# Quadilateral Child Class Object\n",
        "K = Quadrilateral() \n",
        "K.noofsides() \n",
        "\n",
        "# Pentagon Child Class Object\n",
        "R = Pentagon() \n",
        "R.noofsides() \n",
        "\n",
        "# Hexagon Child Class Object\n",
        "K = Hexagon() \n",
        "K.noofsides()"
      ],
      "metadata": {
        "colab": {
          "base_uri": "https://localhost:8080/"
        },
        "id": "SDwtoZj7uHjQ",
        "outputId": "c1280c64-fac0-49ea-f404-b35692aae10f"
      },
      "execution_count": 20,
      "outputs": [
        {
          "output_type": "stream",
          "name": "stdout",
          "text": [
            "I have 3 sides\n",
            "I have 4 sides\n",
            "I have 5 sides\n",
            "I have 6 sides\n"
          ]
        }
      ]
    },
    {
      "cell_type": "code",
      "source": [
        "# Python program invoking a \n",
        "# method using super() \n",
        "\n",
        "from abc import ABC, abstractmethod \n",
        "\n",
        "# create a parent Abstract Class\n",
        "class Parent(ABC): \n",
        "  # define concrete method in abstract class\n",
        "\tdef rk(self): \n",
        "\t\tprint(\"Abstract Base Class\") \n",
        "\n",
        "# create a child Concrete Class\n",
        "class Child(Parent): \n",
        "  # extend \n",
        "\tdef rk(self): \n",
        "\t\tsuper().rk() \n",
        "\t\tprint(\"subclass \") "
      ],
      "metadata": {
        "id": "RQy4NShduHnE"
      },
      "execution_count": 21,
      "outputs": []
    },
    {
      "cell_type": "code",
      "source": [
        "# create new object from Concrete Class\n",
        "new_object = Child() \n",
        "new_object.rk()"
      ],
      "metadata": {
        "colab": {
          "base_uri": "https://localhost:8080/"
        },
        "id": "V_6YlKJUuHp4",
        "outputId": "58a32d3f-f06f-403b-f8a0-48474cf99954"
      },
      "execution_count": 22,
      "outputs": [
        {
          "output_type": "stream",
          "name": "stdout",
          "text": [
            "Abstract Base Class\n",
            "subclass \n"
          ]
        }
      ]
    },
    {
      "cell_type": "code",
      "source": [
        "# Python program showing abstract properties \n",
        "\n",
        "import abc \n",
        "from abc import ABC, abstractmethod \n",
        "\n",
        "# create a parent Abstract Class\n",
        "class parent(ABC): \n",
        "\t@abc.abstractproperty # abstract property\n",
        "\tdef geeks(self): \n",
        "\t\treturn \"parent class\"\n",
        "\n",
        "# create a child Concrete Class\n",
        "class child(parent): \n",
        "\t@property # reference abstact property\n",
        "\tdef geeks(self): \n",
        "\t\treturn \"child class\"\n",
        "\n",
        "try: \n",
        "\tnew_object = parent() \n",
        "\tprint(new_object.geeks) \n",
        "except Exception as err: \n",
        "\tprint (err) \n",
        "\n",
        "new_object = child() \n",
        "print(new_object.geeks)"
      ],
      "metadata": {
        "colab": {
          "base_uri": "https://localhost:8080/"
        },
        "id": "D4kM86fxueey",
        "outputId": "01c35e64-067f-42f8-cfd9-f2c392b42eaa"
      },
      "execution_count": 23,
      "outputs": [
        {
          "output_type": "stream",
          "name": "stdout",
          "text": [
            "Can't instantiate abstract class parent with abstract methods geeks\n",
            "child class\n"
          ]
        }
      ]
    },
    {
      "cell_type": "code",
      "source": [
        "## Create class called Team\n",
        "class Team:\n",
        "\n",
        "  # define constructor\n",
        "  def __init__(self, members):\n",
        "      self.__members = members\n",
        "\n",
        "  # define built-in length method\n",
        "  def __len__(self):\n",
        "      return len(self.__members)\n",
        "\n",
        "  # define membership method\n",
        "  def __contains__(self, member):\n",
        "      return member in self.__members\n",
        "\n",
        "## Instantiate object from Team Class \n",
        "justice_league_fav = Team([\"batman\", \"wonder woman\", \"flash\"])\n",
        "\n",
        "## Size protocol\n",
        "print(len(justice_league_fav))\n",
        "\n",
        "## Membership protocol\n",
        "print(\"batman\" in justice_league_fav)\n",
        "print(\"superman\" in justice_league_fav)\n",
        "print(\"cyborg\" not in justice_league_fav)"
      ],
      "metadata": {
        "colab": {
          "base_uri": "https://localhost:8080/"
        },
        "id": "IS2KS2uXuuiX",
        "outputId": "8b415086-a0c3-4fbc-8e83-f6bebbd2f2e7"
      },
      "execution_count": 25,
      "outputs": [
        {
          "output_type": "stream",
          "name": "stdout",
          "text": [
            "3\n",
            "True\n",
            "False\n",
            "True\n"
          ]
        }
      ]
    },
    {
      "cell_type": "code",
      "source": [
        "import abc\n",
        "\n",
        "class Bird(abc.ABC):\n",
        "    @abc.abstractmethod\n",
        "    def fly(self):\n",
        "        pass"
      ],
      "metadata": {
        "id": "rUmJnzhVu0v2"
      },
      "execution_count": 26,
      "outputs": []
    }
  ]
}