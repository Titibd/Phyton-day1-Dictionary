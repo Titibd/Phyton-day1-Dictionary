{
  "nbformat": 4,
  "nbformat_minor": 0,
  "metadata": {
    "colab": {
      "name": "Step1-Dictionaries.ipynb",
      "provenance": [],
      "authorship_tag": "ABX9TyMdWQ8BHgTjOMtoxyPmbipL",
      "include_colab_link": true
    },
    "kernelspec": {
      "name": "python3",
      "display_name": "Python 3"
    },
    "language_info": {
      "name": "python"
    }
  },
  "cells": [
    {
      "cell_type": "markdown",
      "metadata": {
        "id": "view-in-github",
        "colab_type": "text"
      },
      "source": [
        "<a href=\"https://colab.research.google.com/github/Titibd/Phyton-day1-Dictionary/blob/main/Step1_Dictionaries.ipynb\" target=\"_parent\"><img src=\"https://colab.research.google.com/assets/colab-badge.svg\" alt=\"Open In Colab\"/></a>"
      ]
    },
    {
      "cell_type": "markdown",
      "source": [
        "Dictionaries"
      ],
      "metadata": {
        "id": "XAZE16UrWAl2"
      }
    },
    {
      "cell_type": "code",
      "execution_count": null,
      "metadata": {
        "colab": {
          "base_uri": "https://localhost:8080/"
        },
        "id": "b6hL15qdV3g0",
        "outputId": "f9b0af37-1c6f-48fb-ceb1-b4520e91fe92"
      },
      "outputs": [
        {
          "output_type": "stream",
          "name": "stdout",
          "text": [
            "{'brand': 'Ford', 'model': 'Mustang', 'year': 1964}\n"
          ]
        }
      ],
      "source": [
        "# create dictionary \n",
        "car_info_dict = {\n",
        "  \"brand\": \"Ford\", # key-value pair #1\n",
        "  \"model\": \"Mustang\", # key-value pair #2\n",
        "  \"year\": 1964 # key-value pair #3\n",
        "}\n",
        "\n",
        "# print dictionary\n",
        "print(car_info_dict)"
      ]
    },
    {
      "cell_type": "code",
      "source": [
        "# check type\n",
        "type(car_info_dict)"
      ],
      "metadata": {
        "colab": {
          "base_uri": "https://localhost:8080/"
        },
        "id": "9G8B907dWWQS",
        "outputId": "4f29f141-a759-4ad5-c9b0-6c69f8fa4fad"
      },
      "execution_count": null,
      "outputs": [
        {
          "output_type": "execute_result",
          "data": {
            "text/plain": [
              "dict"
            ]
          },
          "metadata": {},
          "execution_count": 2
        }
      ]
    },
    {
      "cell_type": "markdown",
      "source": [
        "\"dict()\" Constructor"
      ],
      "metadata": {
        "id": "RAnsO55xWa2G"
      }
    },
    {
      "cell_type": "code",
      "source": [
        "# use a `dict()` constructor \n",
        "car_model_info = dict(brand=\"Tesla\", model=\"Model 3\", year=\"2017\")\n",
        "\n",
        "# print the dictionary \n",
        "print(car_model_info)"
      ],
      "metadata": {
        "colab": {
          "base_uri": "https://localhost:8080/"
        },
        "id": "zO2eNBhBWfAp",
        "outputId": "197a7e00-4a0a-4dde-d76f-aca87297f8c5"
      },
      "execution_count": null,
      "outputs": [
        {
          "output_type": "stream",
          "name": "stdout",
          "text": [
            "{'brand': 'Tesla', 'model': 'Model 3', 'year': '2017'}\n"
          ]
        }
      ]
    },
    {
      "cell_type": "markdown",
      "source": [
        "Accessing Values"
      ],
      "metadata": {
        "id": "giV9P8iLWpvG"
      }
    },
    {
      "cell_type": "code",
      "source": [
        "# get the value of the \"model\" key\n",
        "model_value = car_info_dict[\"model\"]\n",
        "\n",
        "# print the value\n",
        "print(model_value)"
      ],
      "metadata": {
        "colab": {
          "base_uri": "https://localhost:8080/"
        },
        "id": "HuZRW4KEWqC5",
        "outputId": "1957a7d1-e461-41ed-cead-47a639e06580"
      },
      "execution_count": null,
      "outputs": [
        {
          "output_type": "stream",
          "name": "stdout",
          "text": [
            "Mustang\n"
          ]
        }
      ]
    },
    {
      "cell_type": "code",
      "source": [
        "# get the value of the \"model\" key using `.get()`\n",
        "model_value = car_info_dict.get(\"model\")\n",
        "\n",
        "# print the value\n",
        "print(model_value)"
      ],
      "metadata": {
        "colab": {
          "base_uri": "https://localhost:8080/"
        },
        "id": "wgCOj-QKXB_9",
        "outputId": "278d3cda-6931-415d-aed8-5f4e151cbd6d"
      },
      "execution_count": null,
      "outputs": [
        {
          "output_type": "stream",
          "name": "stdout",
          "text": [
            "Mustang\n"
          ]
        }
      ]
    },
    {
      "cell_type": "markdown",
      "source": [
        "Change Values"
      ],
      "metadata": {
        "id": "D89q96S1XIDP"
      }
    },
    {
      "cell_type": "code",
      "source": [
        "# create dictionary \n",
        "car_info_dict = {\n",
        "  \"brand\": \"Ford\", # key-value pair #1\n",
        "  \"model\": \"Mustang\", # key-value pair #2\n",
        "  \"year\": 1964 # key-value pair #3\n",
        "}\n",
        "\n",
        "# check the dictionary \n",
        "print(car_info_dict)\n",
        "\n",
        "# change the value for year  \n",
        "car_info_dict[\"year\"] = 2018 \n",
        "\n",
        "# check the dictionary \n",
        "print(car_info_dict)"
      ],
      "metadata": {
        "colab": {
          "base_uri": "https://localhost:8080/"
        },
        "id": "712lh2YUXNB4",
        "outputId": "af799538-97d6-44c8-da0c-91778899ca44"
      },
      "execution_count": null,
      "outputs": [
        {
          "output_type": "stream",
          "name": "stdout",
          "text": [
            "{'brand': 'Ford', 'model': 'Mustang', 'year': 1964}\n",
            "{'brand': 'Ford', 'model': 'Mustang', 'year': 2018}\n"
          ]
        }
      ]
    },
    {
      "cell_type": "markdown",
      "source": [
        "Loop Through a Dictionary"
      ],
      "metadata": {
        "id": "bubOLUD7XUTX"
      }
    },
    {
      "cell_type": "code",
      "source": [
        "# print only the keys of the dictionary\n",
        "for entry in car_info_dict:\n",
        "  print(entry)"
      ],
      "metadata": {
        "colab": {
          "base_uri": "https://localhost:8080/"
        },
        "id": "NM34mq4YXZoE",
        "outputId": "001a4785-11df-4ab2-d04b-b9569cd07ca4"
      },
      "execution_count": null,
      "outputs": [
        {
          "output_type": "stream",
          "name": "stdout",
          "text": [
            "brand\n",
            "model\n",
            "year\n"
          ]
        }
      ]
    },
    {
      "cell_type": "code",
      "source": [
        "# print only the values of the keys of the dictionary\n",
        "for entry in car_info_dict:\n",
        "  print(car_info_dict[entry])"
      ],
      "metadata": {
        "colab": {
          "base_uri": "https://localhost:8080/"
        },
        "id": "TZVCTJlkXd3z",
        "outputId": "042ebf0a-ffb5-4c7a-eca2-a0ab63986625"
      },
      "execution_count": null,
      "outputs": [
        {
          "output_type": "stream",
          "name": "stdout",
          "text": [
            "Ford\n",
            "Mustang\n",
            "2018\n"
          ]
        }
      ]
    },
    {
      "cell_type": "code",
      "source": [
        "for entry in car_info_dict.values():\n",
        "  print(entry)"
      ],
      "metadata": {
        "colab": {
          "base_uri": "https://localhost:8080/"
        },
        "id": "ktK5cmlsXrLw",
        "outputId": "afe81b8c-f29c-43f6-b3f0-38bb104739c5"
      },
      "execution_count": null,
      "outputs": [
        {
          "output_type": "stream",
          "name": "stdout",
          "text": [
            "Ford\n",
            "Mustang\n",
            "2018\n"
          ]
        }
      ]
    },
    {
      "cell_type": "markdown",
      "source": [
        "Check if Key Exists"
      ],
      "metadata": {
        "id": "YGgOrQEhXvDL"
      }
    },
    {
      "cell_type": "code",
      "source": [
        "# create dictionary \n",
        "car_info_dict = {\n",
        "  \"brand\": \"Ford\", # key-value pair #1\n",
        "  \"model\": \"Mustang\", # key-value pair #2\n",
        "  \"year\": 1964 # key-value pair #3\n",
        "}\n",
        "\n",
        "# check if brand key exists\n",
        "if \"brand\" in car_info_dict:\n",
        "  print(\"Brand info is available.\")"
      ],
      "metadata": {
        "colab": {
          "base_uri": "https://localhost:8080/"
        },
        "id": "vIaheX8rXtmt",
        "outputId": "469ddb1b-68e9-450a-a24c-1d34c06e2d0c"
      },
      "execution_count": null,
      "outputs": [
        {
          "output_type": "stream",
          "name": "stdout",
          "text": [
            "Brand info is available.\n"
          ]
        }
      ]
    },
    {
      "cell_type": "markdown",
      "source": [
        "Dictionary Length"
      ],
      "metadata": {
        "id": "KgK4HkLSX5rf"
      }
    },
    {
      "cell_type": "code",
      "source": [
        "# create dictionary \n",
        "car_info_dict = {\n",
        "  \"brand\": \"Ford\", # key-value pair #1\n",
        "  \"model\": \"Mustang\", # key-value pair #2\n",
        "  \"year\": 1964 # key-value pair #3\n",
        "}\n",
        "\n",
        "# get length of the dictionary\n",
        "print(len(car_info_dict))"
      ],
      "metadata": {
        "colab": {
          "base_uri": "https://localhost:8080/"
        },
        "id": "V0xY5g8DX9WD",
        "outputId": "19981ded-58f2-409a-df01-db6f895f8ae2"
      },
      "execution_count": null,
      "outputs": [
        {
          "output_type": "stream",
          "name": "stdout",
          "text": [
            "3\n"
          ]
        }
      ]
    },
    {
      "cell_type": "markdown",
      "source": [
        "Adding Items"
      ],
      "metadata": {
        "id": "K9Po41DmYCa0"
      }
    },
    {
      "cell_type": "code",
      "source": [
        "# create dictionary \n",
        "car_info_dict = {\n",
        "  \"brand\": \"Ford\", # key-value pair #1\n",
        "  \"model\": \"Mustang\", # key-value pair #2\n",
        "  \"year\": 1964 # key-value pair #3\n",
        "}\n",
        "\n",
        "# check the dictionary\n",
        "print(car_info_dict)\n",
        "\n",
        "# add color entry into car_info_dict dictionary\n",
        "car_info_dict[\"color\"] = \"green\"\n",
        "\n",
        "# check the updated dictionary\n",
        "print(car_info_dict)"
      ],
      "metadata": {
        "colab": {
          "base_uri": "https://localhost:8080/"
        },
        "id": "Kdit_3IMYFVr",
        "outputId": "fe865095-d0c6-402a-b4bc-77fe5f4f795a"
      },
      "execution_count": null,
      "outputs": [
        {
          "output_type": "stream",
          "name": "stdout",
          "text": [
            "{'brand': 'Ford', 'model': 'Mustang', 'year': 1964}\n",
            "{'brand': 'Ford', 'model': 'Mustang', 'year': 1964, 'color': 'green'}\n"
          ]
        }
      ]
    },
    {
      "cell_type": "markdown",
      "source": [
        "Removing Items"
      ],
      "metadata": {
        "id": "MUyeUKqnYK2T"
      }
    },
    {
      "cell_type": "code",
      "source": [
        "# initialize dictionary \n",
        "car_model_info = {\n",
        "                  \"brand\":\"Tesla\",\n",
        "                  \"model\":\"Model 3\", \n",
        "                  \"year\":\"2017\"\n",
        "                  }\n",
        "\n",
        "# print car model dictionary\n",
        "print(car_model_info)\n",
        "\n",
        "# remove item with specified key name\n",
        "car_model_info.pop(\"model\")\n",
        "\n",
        "# print car model dictionary after pop\n",
        "print(car_model_info)"
      ],
      "metadata": {
        "colab": {
          "base_uri": "https://localhost:8080/"
        },
        "id": "DmFQPprOYONm",
        "outputId": "69b9c108-932d-4cbc-a906-d2fd86d0567f"
      },
      "execution_count": null,
      "outputs": [
        {
          "output_type": "stream",
          "name": "stdout",
          "text": [
            "{'brand': 'Tesla', 'model': 'Model 3', 'year': '2017'}\n",
            "{'brand': 'Tesla', 'year': '2017'}\n"
          ]
        }
      ]
    },
    {
      "cell_type": "code",
      "source": [
        "# initialize dictionary \n",
        "car_model_info = {\n",
        "                  \"brand\":\"Tesla\",\n",
        "                  \"model\":\"Model 3\", \n",
        "                  \"year\":\"2017\"\n",
        "                  }\n",
        "\n",
        "# print car model dictionary\n",
        "print(car_model_info)\n",
        "\n",
        "# remove dictionary last added entry with popitem()\n",
        "car_model_info.popitem()\n",
        "\n",
        "# print car model dictionary after removing last added item\n",
        "print(car_model_info)"
      ],
      "metadata": {
        "colab": {
          "base_uri": "https://localhost:8080/"
        },
        "id": "8i52J7XiYXY7",
        "outputId": "4de0680e-9ed3-43fb-8397-616b085e0f97"
      },
      "execution_count": null,
      "outputs": [
        {
          "output_type": "stream",
          "name": "stdout",
          "text": [
            "{'brand': 'Tesla', 'model': 'Model 3', 'year': '2017'}\n",
            "{'brand': 'Tesla', 'model': 'Model 3'}\n"
          ]
        }
      ]
    },
    {
      "cell_type": "code",
      "source": [
        "# initialize dictionary \n",
        "car_model_info = {\n",
        "                  \"brand\":\"Tesla\",\n",
        "                  \"model\":\"Model 3\", \n",
        "                  \"year\":\"2017\"\n",
        "                  }\n",
        "\n",
        "# print car model dictionary\n",
        "print(car_model_info)\n",
        "\n",
        "# remove entry with specified key name using del command\n",
        "del car_model_info[\"model\"]\n",
        "\n",
        "# print car model dictionary after del command\n",
        "print(car_model_info)"
      ],
      "metadata": {
        "colab": {
          "base_uri": "https://localhost:8080/"
        },
        "id": "nRxAWFF9YbUf",
        "outputId": "2becb77a-6871-4718-f6df-6538b0f3ccfd"
      },
      "execution_count": null,
      "outputs": [
        {
          "output_type": "stream",
          "name": "stdout",
          "text": [
            "{'brand': 'Tesla', 'model': 'Model 3', 'year': '2017'}\n",
            "{'brand': 'Tesla', 'year': '2017'}\n"
          ]
        }
      ]
    },
    {
      "cell_type": "markdown",
      "source": [
        "Copy a Dictionary"
      ],
      "metadata": {
        "id": "Dnw5MjDrYaO5"
      }
    },
    {
      "cell_type": "code",
      "source": [
        "# initialize dictionary \n",
        "car_model_info = {\n",
        "                  \"brand\":\"Tesla\",\n",
        "                  \"model\":\"Model 3\", \n",
        "                  \"year\":\"2017\"\n",
        "                  }\n",
        "\n",
        "# print car model dictionary\n",
        "print(car_model_info)\n",
        "\n",
        "# copy car model info into a new dictionary using .copy()\n",
        "new_car_model_info = car_model_info.copy()\n",
        "\n",
        "# print new car model dictionary after copy\n",
        "print(new_car_model_info)"
      ],
      "metadata": {
        "colab": {
          "base_uri": "https://localhost:8080/"
        },
        "id": "1a9WS9avYkGO",
        "outputId": "80bf2d44-6b76-43f2-b291-43a564b9a793"
      },
      "execution_count": null,
      "outputs": [
        {
          "output_type": "stream",
          "name": "stdout",
          "text": [
            "{'brand': 'Tesla', 'model': 'Model 3', 'year': '2017'}\n",
            "{'brand': 'Tesla', 'model': 'Model 3', 'year': '2017'}\n"
          ]
        }
      ]
    },
    {
      "cell_type": "code",
      "source": [
        "# initialize dictionary \n",
        "car_model_info = {\n",
        "                  \"brand\":\"Tesla\",\n",
        "                  \"model\":\"Model 3\", \n",
        "                  \"year\":\"2017\"\n",
        "                  }\n",
        "\n",
        "# print car model dictionary\n",
        "print(car_model_info)\n",
        "\n",
        "# copy car model info into a new dictionary using dict()\n",
        "new_car_model_info = dict(car_model_info)\n",
        "\n",
        "# print new car model dictionary after copy\n",
        "print(new_car_model_info)"
      ],
      "metadata": {
        "colab": {
          "base_uri": "https://localhost:8080/"
        },
        "id": "ZfL_X_8AYs2l",
        "outputId": "1cfd01c0-349c-42ed-d351-83df36e2e1ce"
      },
      "execution_count": null,
      "outputs": [
        {
          "output_type": "stream",
          "name": "stdout",
          "text": [
            "{'brand': 'Tesla', 'model': 'Model 3', 'year': '2017'}\n",
            "{'brand': 'Tesla', 'model': 'Model 3', 'year': '2017'}\n"
          ]
        }
      ]
    },
    {
      "cell_type": "markdown",
      "source": [
        "Nested Dictionaries"
      ],
      "metadata": {
        "id": "SGJNqiYZYn6D"
      }
    },
    {
      "cell_type": "code",
      "source": [
        "# create a nested dictionary \n",
        "family = {\n",
        "  \"child1\" : {\n",
        "    \"name\" : \"Emil\",\n",
        "    \"year\" : 2004\n",
        "  },\n",
        "  \"child2\" : {\n",
        "    \"name\" : \"Tobias\",\n",
        "    \"year\" : 2007\n",
        "  },\n",
        "  \"child3\" : {\n",
        "    \"name\" : \"Linus\",\n",
        "    \"year\" : 2011\n",
        "  }\n",
        "}\n",
        "\n",
        "# print the family dictionary\n",
        "print(family)"
      ],
      "metadata": {
        "colab": {
          "base_uri": "https://localhost:8080/"
        },
        "id": "xISUFIPYY1XY",
        "outputId": "6862bbd4-735a-41f3-ff73-8f8a07a71d26"
      },
      "execution_count": null,
      "outputs": [
        {
          "output_type": "stream",
          "name": "stdout",
          "text": [
            "{'child1': {'name': 'Emil', 'year': 2004}, 'child2': {'name': 'Tobias', 'year': 2007}, 'child3': {'name': 'Linus', 'year': 2011}}\n"
          ]
        }
      ]
    },
    {
      "cell_type": "code",
      "source": [
        "# create three separate dictionaries \n",
        "child1 = {\n",
        "  \"name\" : \"Emil\",\n",
        "  \"year\" : 2004\n",
        "}\n",
        "child2 = {\n",
        "  \"name\" : \"Tobias\",\n",
        "  \"year\" : 2007\n",
        "}\n",
        "child3 = {\n",
        "  \"name\" : \"Linus\",\n",
        "  \"year\" : 2011\n",
        "}\n",
        "\n",
        "# create parent dicitonary \n",
        "family = {\n",
        "  \"child1\" : child1,\n",
        "  \"child2\" : child2,\n",
        "  \"child3\" : child3\n",
        "}"
      ],
      "metadata": {
        "id": "XIBaagddY9C9"
      },
      "execution_count": null,
      "outputs": []
    },
    {
      "cell_type": "code",
      "source": [
        "print(family)"
      ],
      "metadata": {
        "id": "t6N8Bk5tZHNU",
        "outputId": "33c89fb3-b5ba-47a2-8994-9f7122ad8686",
        "colab": {
          "base_uri": "https://localhost:8080/"
        }
      },
      "execution_count": null,
      "outputs": [
        {
          "output_type": "stream",
          "name": "stdout",
          "text": [
            "{'child1': {'name': 'Emil', 'year': 2004}, 'child2': {'name': 'Tobias', 'year': 2007}, 'child3': {'name': 'Linus', 'year': 2011}}\n"
          ]
        }
      ]
    }
  ]
}